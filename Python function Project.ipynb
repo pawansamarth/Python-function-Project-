{
 "cells": [
  {
   "cell_type": "code",
   "execution_count": 1,
   "id": "1182c7d0-01c1-4d68-aa4e-222f02e48874",
   "metadata": {},
   "outputs": [
    {
     "name": "stdout",
     "output_type": "stream",
     "text": [
      "42\n"
     ]
    }
   ],
   "source": [
    "# Que 1. Write a Python function that takes a list of numbers as input and returns the sum of all even numbers in the list.\n",
    "def sum_of_even_numbers(numbers):\n",
    "  even_sum = 0\n",
    "  for num in numbers:\n",
    "    if num % 2 == 0:\n",
    "      even_sum += num\n",
    "  return even_sum\n",
    "my_list = [1, 2, 3, 4, 5, 6, 7, 8, 9, 10, 11, 12]\n",
    "result = sum_of_even_numbers(my_list)\n",
    "print(result)"
   ]
  },
  {
   "cell_type": "code",
   "execution_count": 2,
   "id": "f3213559-b4ee-42fa-8c96-323602811dad",
   "metadata": {},
   "outputs": [
    {
     "name": "stdout",
     "output_type": "stream",
     "text": [
      "tnedutS WP a ma I\n"
     ]
    }
   ],
   "source": [
    "# Que 2. Create a Python function that accepts a string and returns the reverse of that string.\n",
    "def reverse_string(string):\n",
    "  return string[::-1]\n",
    "my_string = \"I am a PW Student\"\n",
    "reversed_string = reverse_string(my_string)\n",
    "print(reversed_string)"
   ]
  },
  {
   "cell_type": "code",
   "execution_count": 3,
   "id": "8fb9ecc9-ad9d-4d2b-8023-5c64991e8230",
   "metadata": {},
   "outputs": [
    {
     "data": {
      "text/plain": [
       "[1, 2, 3, 4, 5, 6]"
      ]
     },
     "execution_count": 3,
     "metadata": {},
     "output_type": "execute_result"
    }
   ],
   "source": [
    "# Que 3.Implement a Python function that takes a list of integers and returns a new list containing the squares of each number.\n",
    "my_list = [1, 2, 3, 4, 5, 6]\n",
    "my_list"
   ]
  },
  {
   "cell_type": "code",
   "execution_count": 4,
   "id": "005dc472-9600-450d-b07e-b738deacef61",
   "metadata": {},
   "outputs": [],
   "source": [
    "def square(my_list):\n",
    "    squared_list = []\n",
    "    for i in my_list:\n",
    "        squared_list.append(i ** 2)\n",
    "    return squared_list"
   ]
  },
  {
   "cell_type": "code",
   "execution_count": 5,
   "id": "a37359f7-ca35-4da7-89c2-ad6a3ed54bce",
   "metadata": {},
   "outputs": [
    {
     "data": {
      "text/plain": [
       "[1, 4, 9, 16, 25, 36]"
      ]
     },
     "execution_count": 5,
     "metadata": {},
     "output_type": "execute_result"
    }
   ],
   "source": [
    "square(my_list)"
   ]
  },
  {
   "cell_type": "code",
   "execution_count": 7,
   "id": "33fac5d1-9315-4e9e-807c-13d08f59dc1d",
   "metadata": {},
   "outputs": [
    {
     "name": "stdout",
     "output_type": "stream",
     "text": [
      "2 is a prime number\n",
      "3 is a prime number\n",
      "5 is a prime number\n",
      "7 is a prime number\n",
      "11 is a prime number\n",
      "13 is a prime number\n",
      "17 is a prime number\n",
      "19 is a prime number\n",
      "23 is a prime number\n",
      "29 is a prime number\n",
      "31 is a prime number\n",
      "37 is a prime number\n",
      "41 is a prime number\n",
      "43 is a prime number\n",
      "47 is a prime number\n",
      "53 is a prime number\n",
      "59 is a prime number\n",
      "61 is a prime number\n",
      "67 is a prime number\n",
      "71 is a prime number\n",
      "73 is a prime number\n",
      "79 is a prime number\n",
      "83 is a prime number\n",
      "89 is a prime number\n",
      "97 is a prime number\n",
      "101 is a prime number\n",
      "103 is a prime number\n",
      "107 is a prime number\n",
      "109 is a prime number\n",
      "113 is a prime number\n",
      "127 is a prime number\n",
      "131 is a prime number\n",
      "137 is a prime number\n",
      "139 is a prime number\n",
      "149 is a prime number\n",
      "151 is a prime number\n",
      "157 is a prime number\n",
      "163 is a prime number\n",
      "167 is a prime number\n",
      "173 is a prime number\n",
      "179 is a prime number\n",
      "181 is a prime number\n",
      "191 is a prime number\n",
      "193 is a prime number\n",
      "197 is a prime number\n",
      "199 is a prime number\n"
     ]
    }
   ],
   "source": [
    "# Que 4. Write a Python function that checks if a given number is prime or not from 1 to 200.\n",
    "def is_prime(n):\n",
    "    if n <= 1:\n",
    "        return False  # 1 and numbers less than 1 are not prime numbers\n",
    "    elif n == 2:\n",
    "        return True   # 2 is a prime number\n",
    "    elif n % 2 == 0:\n",
    "        return False  # Any even number greater than 2 is not prime\n",
    "    else:\n",
    "        # Check for odd factors from 3 up to the square root of n\n",
    "        sqrt_n = int(n**0.5) + 1\n",
    "        for i in range(3, sqrt_n, 2):\n",
    "            if n % i == 0:\n",
    "                return False  # n is divisible by i, hence not prime\n",
    "        return True  # n is a prime number\n",
    "\n",
    "# Test the function for numbers from 1 to 200\n",
    "for number in range(1, 201):\n",
    "    if is_prime(number):\n",
    "        print(f\"{number} is a prime number\")"
   ]
  },
  {
   "cell_type": "code",
   "execution_count": 8,
   "id": "b930f115-9196-4375-af60-8afecc62d788",
   "metadata": {},
   "outputs": [
    {
     "name": "stdout",
     "output_type": "stream",
     "text": [
      "Fibonacci sequence up to 10 terms:\n",
      "0\n",
      "1\n",
      "1\n",
      "2\n",
      "3\n",
      "5\n",
      "8\n",
      "13\n",
      "21\n",
      "34\n"
     ]
    }
   ],
   "source": [
    "# Que 5.Create an iterator class in Python that generates the Fibonacci sequence up to a specified number of terms.\n",
    "class FibonacciIterator:\n",
    "    def __init__(self, num_terms):\n",
    "        self.num_terms = num_terms\n",
    "        self.current_index = 0\n",
    "        self.a, self.b = 0, 1  # Initialize first two Fibonacci numbers\n",
    "\n",
    "    def __iter__(self):\n",
    "        return self\n",
    "\n",
    "    def __next__(self):\n",
    "        if self.current_index >= self.num_terms:\n",
    "            raise StopIteration\n",
    "        \n",
    "        if self.current_index == 0:\n",
    "            result = self.a\n",
    "        elif self.current_index == 1:\n",
    "            result = self.b\n",
    "        else:\n",
    "            result = self.a + self.b\n",
    "            self.a, self.b = self.b, result\n",
    "        \n",
    "        self.current_index += 1\n",
    "        return result\n",
    "\n",
    "num_terms = 10\n",
    "fib_iter = FibonacciIterator(num_terms)\n",
    "\n",
    "print(f\"Fibonacci sequence up to {num_terms} terms:\")\n",
    "for fib_num in fib_iter:\n",
    "    print(fib_num)"
   ]
  },
  {
   "cell_type": "code",
   "execution_count": 10,
   "id": "bc807a2b-51d9-4d71-8aa9-0aa04122ad75",
   "metadata": {},
   "outputs": [
    {
     "name": "stdout",
     "output_type": "stream",
     "text": [
      "1\n",
      "2\n",
      "4\n",
      "8\n",
      "16\n",
      "32\n"
     ]
    }
   ],
   "source": [
    "# Que 6. Write a generator function in Python that yields the powers of 2 up to a given exponent.\n",
    "def powers_of_two_up_to(exponent):\n",
    "    power = 0\n",
    "    while power <= exponent:\n",
    "        yield 2 ** power\n",
    "        power += 1\n",
    "exponent = 5  # Generate powers of 2 up to 2^5\n",
    "for power_of_two in powers_of_two_up_to(exponent):\n",
    "    print(power_of_two)"
   ]
  },
  {
   "cell_type": "code",
   "execution_count": 15,
   "id": "141256f1-bdc7-4d6f-9eeb-05688eed9b6b",
   "metadata": {},
   "outputs": [
    {
     "name": "stdout",
     "output_type": "stream",
     "text": [
      "l\n",
      "i\n",
      "n\n",
      "e\n",
      "_\n",
      "g\n",
      "e\n",
      "n\n"
     ]
    }
   ],
   "source": [
    "# Que 7. Implement a generator function that reads a file line by line and yields each line as a string.\n",
    "def read_lines(file_path):\n",
    "    with open(file_path, 'r')as file:\n",
    "        for line in file:\n",
    "            yield line.strip()\n",
    "file_path = r\"C:\\Users\\lenovo\\Desktop\\example.txt\"\n",
    "line_gen = read_lines(file_path)\n",
    "for line in \"line_gen\":\n",
    "    print(line) "
   ]
  },
  {
   "cell_type": "code",
   "execution_count": 16,
   "id": "da4a436f-1343-4bd1-a266-d0a94c8259ea",
   "metadata": {},
   "outputs": [
    {
     "name": "stdout",
     "output_type": "stream",
     "text": [
      "[(4, 1), (3, 2), (2, 4), (1, 5)]\n"
     ]
    }
   ],
   "source": [
    "# Que 8. Use a lambda function in Python to sort a list of tuples based on the second element of each tuple.\n",
    "my_list = [(3, 2), (1, 5), (4, 1), (2, 4)]\n",
    "\n",
    "sorted_list = sorted(my_list, key=lambda x: x[1])\n",
    "\n",
    "print(sorted_list)"
   ]
  },
  {
   "cell_type": "code",
   "execution_count": 17,
   "id": "a3c70c61-e445-4890-ba3e-c57caa340024",
   "metadata": {},
   "outputs": [
    {
     "name": "stdout",
     "output_type": "stream",
     "text": [
      "[77.0, 86.0, 59.0, 68.0]\n"
     ]
    }
   ],
   "source": [
    "# Que 9. Write a Python program that uses `map()` to convert a list of temperatures from Celsius to Fahrenheit.\n",
    "def celsius_to_fahrenheit(celsius):\n",
    "  return (celsius * 9/5) + 32\n",
    "\n",
    "temperatures_celsius = [25, 30, 15, 20]\n",
    "temperatures_fahrenheit = list(map(celsius_to_fahrenheit, temperatures_celsius))\n",
    "\n",
    "print(temperatures_fahrenheit)"
   ]
  },
  {
   "cell_type": "code",
   "execution_count": 18,
   "id": "c91aee0c-7108-49ca-acdc-500fa455c4fb",
   "metadata": {},
   "outputs": [
    {
     "name": "stdout",
     "output_type": "stream",
     "text": [
      "Ths s  smpl strng\n"
     ]
    }
   ],
   "source": [
    "# Que 10. Create a Python program that uses `filter()` to remove all the vowels from a given string.\n",
    "def is_not_vowel(char):\n",
    "  vowels = \"aeiouAEIOU\"\n",
    "  return char not in vowels\n",
    "\n",
    "my_string = \"This is a sample string\"\n",
    "filtered_string = \"\".join(filter(is_not_vowel, my_string))\n",
    "\n",
    "print(filtered_string)"
   ]
  },
  {
   "cell_type": "code",
   "execution_count": 14,
   "id": "352fe46c-ee5e-40c1-ba38-68175682397c",
   "metadata": {},
   "outputs": [
    {
     "name": "stdout",
     "output_type": "stream",
     "text": [
      "[(34587, 163.8), (98762, 284.0), (77226, 108.85000000000001), (88112, 84.97)]\n"
     ]
    }
   ],
   "source": [
    "# Que 11.Imagine an accounting routine used in a book shop. It works on a list with sublists, which look like this:\n",
    "#  order Number  Book Title and Author               Quantity  Price per Item\n",
    "#   34587        Learning Python, Mark Lutz             4          40.95\n",
    "#   98762        Programming Python, Mark Lutz          5          56.80\n",
    "#   77226        Head First Python, Paul Barry          3          32.95\n",
    "#   88112        Einfuhrung in Python3, Bernd Klein     3          24.99\n",
    "# Write a Python program, which returns a list with 2-tuples. Each tuple consists of the order number and the \n",
    "# product of the price per item and the quantity. The product should be increased by 10,- € if the value of the \n",
    "# order is smaller than 100,00 €.\n",
    "\n",
    "# Write a Python program using lambda and map.\n",
    "\n",
    "orders = [\n",
    "    (34587, \"Learning Python, Mark Lutz\", 4, 40.95),\n",
    "    (98762, \"Programming Python, Mark Lutz\", 5, 56.80),\n",
    "    (77226, \"Head First Python, Paul Barry\", 3, 32.95),\n",
    "    (88112, \"Einfuhrung in Python3, Bernd Klein\", 3, 24.99)\n",
    "]\n",
    "\n",
    "# Using lambda function and map to calculate total order value\n",
    "result = list(map(lambda order: (order[0], (order[2] * order[3]) if (order[2] * order[3]) >= 100 else (order[2] * order[3]) + 10), orders))\n",
    "\n",
    "print(result)"
   ]
  }
 ],
 "metadata": {
  "kernelspec": {
   "display_name": "Python 3 (ipykernel)",
   "language": "python",
   "name": "python3"
  },
  "language_info": {
   "codemirror_mode": {
    "name": "ipython",
    "version": 3
   },
   "file_extension": ".py",
   "mimetype": "text/x-python",
   "name": "python",
   "nbconvert_exporter": "python",
   "pygments_lexer": "ipython3",
   "version": "3.10.8"
  }
 },
 "nbformat": 4,
 "nbformat_minor": 5
}
